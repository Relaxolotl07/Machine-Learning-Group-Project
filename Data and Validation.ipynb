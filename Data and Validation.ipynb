{
 "cells": [
  {
   "cell_type": "markdown",
   "id": "f463f80a-714e-46e9-9e61-ce930e72d92d",
   "metadata": {},
   "source": [
    "The paper provided describes a neural network architechture focused around efficient parallel sorting.\n",
    "\n",
    "This file inludes randomly generated sample data for our model to sort and a validation function to compare the sorted results.\n"
   ]
  },
  {
   "cell_type": "code",
   "execution_count": 12,
   "id": "82887c1c-38bf-41c6-ade2-477db9488f9d",
   "metadata": {},
   "outputs": [],
   "source": [
    "import numpy as np\n",
    "\n",
    "\n",
    "def create_data(n, min = 1, max = 101):\n",
    "    data = np.random.randint(min, max, n).tolist()\n",
    "    return data\n",
    "\n",
    "#time complexity O(n)\n",
    "def validate_data(data, ascending = True):\n",
    "    for i in range(data):\n",
    "        if ascending:\n",
    "            if data[i] > data[i+1]:\n",
    "                return False\n",
    "        else:\n",
    "            if data[i] < data[i+1]:\n",
    "                return False\n",
    "    return True\n",
    "\n"
   ]
  },
  {
   "cell_type": "code",
   "execution_count": 10,
   "id": "b566d459-40de-4aed-82a5-6dd3732c11a8",
   "metadata": {},
   "outputs": [
    {
     "ename": "TypeError",
     "evalue": "'list' object cannot be interpreted as an integer",
     "output_type": "error",
     "traceback": [
      "\u001b[1;31m---------------------------------------------------------------------------\u001b[0m",
      "\u001b[1;31mTypeError\u001b[0m                                 Traceback (most recent call last)",
      "Cell \u001b[1;32mIn[10], line 3\u001b[0m\n\u001b[0;32m      1\u001b[0m data \u001b[38;5;241m=\u001b[39m create_data(\u001b[38;5;241m100\u001b[39m)\n\u001b[0;32m      2\u001b[0m data\u001b[38;5;241m.\u001b[39msort()\n\u001b[1;32m----> 3\u001b[0m \u001b[38;5;28mprint\u001b[39m(validate_data(data))\n",
      "Cell \u001b[1;32mIn[8], line 10\u001b[0m, in \u001b[0;36mvalidate_data\u001b[1;34m(data, ascending)\u001b[0m\n\u001b[0;32m      9\u001b[0m \u001b[38;5;28;01mdef\u001b[39;00m \u001b[38;5;21mvalidate_data\u001b[39m(data, ascending \u001b[38;5;241m=\u001b[39m \u001b[38;5;28;01mTrue\u001b[39;00m):\n\u001b[1;32m---> 10\u001b[0m     \u001b[38;5;28;01mfor\u001b[39;00m i \u001b[38;5;129;01min\u001b[39;00m \u001b[38;5;28mrange\u001b[39m(data):\n\u001b[0;32m     11\u001b[0m         \u001b[38;5;28;01mif\u001b[39;00m ascending:\n\u001b[0;32m     12\u001b[0m             \u001b[38;5;28;01mif\u001b[39;00m data[i] \u001b[38;5;241m>\u001b[39m data[i\u001b[38;5;241m+\u001b[39m\u001b[38;5;241m1\u001b[39m]:\n",
      "\u001b[1;31mTypeError\u001b[0m: 'list' object cannot be interpreted as an integer"
     ]
    }
   ],
   "source": [
    "data = create_data(100)\n",
    "data.sort()\n",
    "print(validate_data(data))"
   ]
  },
  {
   "cell_type": "code",
   "execution_count": null,
   "id": "21feac1c-a3dd-4fca-9a12-e5244cf6ad3a",
   "metadata": {},
   "outputs": [],
   "source": []
  }
 ],
 "metadata": {
  "kernelspec": {
   "display_name": "Python [conda env:base] *",
   "language": "python",
   "name": "conda-base-py"
  },
  "language_info": {
   "codemirror_mode": {
    "name": "ipython",
    "version": 3
   },
   "file_extension": ".py",
   "mimetype": "text/x-python",
   "name": "python",
   "nbconvert_exporter": "python",
   "pygments_lexer": "ipython3",
   "version": "3.12.7"
  }
 },
 "nbformat": 4,
 "nbformat_minor": 5
}

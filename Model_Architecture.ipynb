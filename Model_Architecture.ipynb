{
 "cells": [
  {
   "cell_type": "code",
   "execution_count": 11,
   "id": "464ceb89-27be-4232-a173-a9c03747a299",
   "metadata": {},
   "outputs": [],
   "source": [
    "from Data_and_Validation import *\n",
    "\n",
    "data = create_data(10)"
   ]
  },
  {
   "cell_type": "code",
   "execution_count": null,
   "id": "18678ed0-c779-492e-9d17-a9879d0229c3",
   "metadata": {},
   "outputs": [],
   "source": [
    "class KWTA_sorting():\n",
    "    def __init__(self):\n",
    "        self.input_size = 0\n",
    "        self.input_data = self.input_size\n",
    "        self.weights = []\n",
    "        self.biases = []\n",
    "\n",
    "    #positive list means the list of nodes that are being summed in the summation function\n",
    "    #negative list means list of nodes that are being subtracted in the summation function\n",
    "    def node_summation(self, positive_list, positive_weights = [1], negative_list = [0], negative_weights = [1]):\n",
    "        \n",
    "        "
   ]
  }
 ],
 "metadata": {
  "kernelspec": {
   "display_name": "Python [conda env:base] *",
   "language": "python",
   "name": "conda-base-py"
  },
  "language_info": {
   "codemirror_mode": {
    "name": "ipython",
    "version": 3
   },
   "file_extension": ".py",
   "mimetype": "text/x-python",
   "name": "python",
   "nbconvert_exporter": "python",
   "pygments_lexer": "ipython3",
   "version": "3.12.7"
  }
 },
 "nbformat": 4,
 "nbformat_minor": 5
}

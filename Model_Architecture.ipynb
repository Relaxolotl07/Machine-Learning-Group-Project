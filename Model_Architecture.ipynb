{
 "cells": [
  {
   "cell_type": "code",
   "execution_count": 11,
   "id": "464ceb89-27be-4232-a173-a9c03747a299",
   "metadata": {},
   "outputs": [],
   "source": [
    "from Data_and_Validation import *\n",
    "import nu\n",
    "\n",
    "data = create_data(10)"
   ]
  },
  {
   "cell_type": "code",
   "execution_count": 19,
   "id": "18678ed0-c779-492e-9d17-a9879d0229c3",
   "metadata": {},
   "outputs": [],
   "source": [
    "class KWTA_sorting():\n",
    "    def __init__(self, input_size, ):\n",
    "        self.input_size = input_size # number of neurons\n",
    "        self.state = np.full(input_size, np.random.rand(), dtype=float) # FIXME: np.random is placeholder.\n",
    "        self.biases = [[]]\n",
    "        self.max_iterations = 1000\n",
    "\n",
    "    #positive list means the list of nodes that are being summed in the summation function\n",
    "    #negative list means list of nodes that are being subtracted in the summation function\n",
    "    def node_summation(self, positive_list, positive_weights = [1], negative_list = [0], negative_weights = [1]):\n",
    "        return\n",
    "\n",
    "    # Heaviside step activation: returns 1 if x > 0, otherwise 0.\n",
    "    def step_function(x):\n",
    "        return np.where(x > 0, 1, 0)\n",
    "\n",
    "    # Returns 1 if x > 0, -1 if x < 0, and 0 if x == 0.\n",
    "    def signum(x):\n",
    "        return np.where(x > 0, 1, np.where(x < 0, -1, 0))\n",
    "\n",
    "    def update_state(self):\n",
    "        return \n",
    "\n",
    "    #the function call for using the sorting algorithm\n",
    "    def parallel_sort(self):\n",
    "        \n",
    "        \n",
    "        return sorted_values, sorting_matrix"
   ]
  },
  {
   "cell_type": "code",
   "execution_count": null,
   "id": "1c22d1da-1ccf-4e97-b6fc-c7a8ddc681e7",
   "metadata": {},
   "outputs": [],
   "source": []
  }
 ],
 "metadata": {
  "kernelspec": {
   "display_name": "Python [conda env:base] *",
   "language": "python",
   "name": "conda-base-py"
  },
  "language_info": {
   "codemirror_mode": {
    "name": "ipython",
    "version": 3
   },
   "file_extension": ".py",
   "mimetype": "text/x-python",
   "name": "python",
   "nbconvert_exporter": "python",
   "pygments_lexer": "ipython3",
   "version": "3.12.7"
  }
 },
 "nbformat": 4,
 "nbformat_minor": 5
}
